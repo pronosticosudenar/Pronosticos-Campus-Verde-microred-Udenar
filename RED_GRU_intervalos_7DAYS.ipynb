{
  "nbformat": 4,
  "nbformat_minor": 0,
  "metadata": {
    "colab": {
      "provenance": [],
      "collapsed_sections": []
    },
    "kernelspec": {
      "name": "python3",
      "display_name": "Python 3"
    },
    "language_info": {
      "name": "python"
    }
  },
  "cells": [
    {
      "cell_type": "code",
      "execution_count": 121,
      "metadata": {
        "id": "_lbWF6hEN9Mo"
      },
      "outputs": [],
      "source": [
        "\n",
        "\n",
        "import numpy as np\n",
        "np.random.seed(4)\n",
        "import matplotlib.pyplot as plt\n",
        "import pandas as pd\n",
        "from sklearn.preprocessing import MinMaxScaler\n",
        "\n",
        "\n",
        "\n",
        "\n",
        "\n",
        "\n",
        "#[dataset['AirTemp'].iloc[0:8700]]"
      ]
    },
    {
      "cell_type": "code",
      "source": [
        "dataset=pd.read_csv('https://raw.githubusercontent.com/sadoky/Pandas/master/1.232462_-77.293538_Solcast_PT5M.csv')\n"
      ],
      "metadata": {
        "id": "4ZfxtYokOHyv"
      },
      "execution_count": 122,
      "outputs": []
    },
    {
      "cell_type": "code",
      "source": [
        "set_entrenamiento1= (dataset[\"Ghi\"].iloc[0:4000])\n",
        "set_validacion1 = dataset[\"Ghi\"].iloc[4000:6240]"
      ],
      "metadata": {
        "id": "XEClOEkoOjen"
      },
      "execution_count": 123,
      "outputs": []
    },
    {
      "cell_type": "code",
      "source": [
        "sc = MinMaxScaler(feature_range=(0,1))\n",
        "set_entrenamiento=set_entrenamiento1.values.reshape(-1,1)\n",
        "set_entrenamiento_escalado = sc.fit_transform(set_entrenamiento)"
      ],
      "metadata": {
        "id": "NkGNO2U6PJhA"
      },
      "execution_count": 124,
      "outputs": []
    },
    {
      "cell_type": "code",
      "source": [
        "time_step = 60\n",
        "X_train = []\n",
        "Y_train = []\n",
        "m = len(set_entrenamiento_escalado)\n",
        "\n",
        "for i in range(time_step,m):\n",
        "    # X: bloques de \"time_step\" datos: 0-time_step, 1-time_step+1, 2-time_step+2, etc\n",
        "    X_train.append(set_entrenamiento_escalado[i-time_step:i,0])\n",
        "\n",
        "    # Y: el siguiente dato\n",
        "    Y_train.append(set_entrenamiento_escalado[i,0])\n",
        "X_train, Y_train = np.array(X_train), np.array(Y_train)"
      ],
      "metadata": {
        "id": "IbqgFeb_la_R"
      },
      "execution_count": 125,
      "outputs": []
    },
    {
      "cell_type": "code",
      "source": [
        "X_train = np.reshape(X_train, (X_train.shape[0], X_train.shape[1], 1))"
      ],
      "metadata": {
        "id": "t_hzKlL2lzf9"
      },
      "execution_count": 126,
      "outputs": []
    },
    {
      "cell_type": "code",
      "source": [
        "from keras.models import Sequential\n",
        "from keras.layers import GRU, Dense"
      ],
      "metadata": {
        "id": "Khz-pGZxl2zz"
      },
      "execution_count": 127,
      "outputs": []
    },
    {
      "cell_type": "code",
      "source": [
        "dim_entrada = (X_train.shape[1],1)\n",
        "dim_salida = 1\n",
        "na = 50"
      ],
      "metadata": {
        "id": "EpM_8ZBOl6Un"
      },
      "execution_count": 128,
      "outputs": []
    },
    {
      "cell_type": "code",
      "source": [
        "modelo = Sequential()"
      ],
      "metadata": {
        "id": "Ja9nmjl1l_wd"
      },
      "execution_count": 129,
      "outputs": []
    },
    {
      "cell_type": "code",
      "source": [
        "modelo.add(GRU(units=na, input_shape=dim_entrada))"
      ],
      "metadata": {
        "id": "fr_pkMwkmAck"
      },
      "execution_count": 130,
      "outputs": []
    },
    {
      "cell_type": "code",
      "source": [
        "modelo.add(Dense(units=dim_salida))"
      ],
      "metadata": {
        "id": "_EwaQyahmTC2"
      },
      "execution_count": 131,
      "outputs": []
    },
    {
      "cell_type": "code",
      "source": [
        "from keras.callbacks import learning_rate_schedule\n",
        "modelo.compile(optimizer=\"adam\", loss='mse')"
      ],
      "metadata": {
        "id": "RR26_7J8mZP2"
      },
      "execution_count": 132,
      "outputs": []
    },
    {
      "cell_type": "code",
      "source": [
        "history=modelo.fit(X_train,Y_train,epochs=20,batch_size=32,verbose=2)\n"
      ],
      "metadata": {
        "colab": {
          "base_uri": "https://localhost:8080/"
        },
        "id": "9FTNNbVwmcuj",
        "outputId": "fb389c91-d363-4b84-da4a-05752b505d26"
      },
      "execution_count": 133,
      "outputs": [
        {
          "output_type": "stream",
          "name": "stdout",
          "text": [
            "Epoch 1/20\n",
            "124/124 - 6s - loss: 0.0091 - 6s/epoch - 48ms/step\n",
            "Epoch 2/20\n",
            "124/124 - 3s - loss: 0.0016 - 3s/epoch - 27ms/step\n",
            "Epoch 3/20\n",
            "124/124 - 3s - loss: 0.0012 - 3s/epoch - 27ms/step\n",
            "Epoch 4/20\n",
            "124/124 - 3s - loss: 9.5226e-04 - 3s/epoch - 27ms/step\n",
            "Epoch 5/20\n",
            "124/124 - 3s - loss: 8.1720e-04 - 3s/epoch - 27ms/step\n",
            "Epoch 6/20\n",
            "124/124 - 3s - loss: 7.2128e-04 - 3s/epoch - 27ms/step\n",
            "Epoch 7/20\n",
            "124/124 - 3s - loss: 7.1248e-04 - 3s/epoch - 27ms/step\n",
            "Epoch 8/20\n",
            "124/124 - 3s - loss: 6.0559e-04 - 3s/epoch - 27ms/step\n",
            "Epoch 9/20\n",
            "124/124 - 3s - loss: 5.7507e-04 - 3s/epoch - 27ms/step\n",
            "Epoch 10/20\n",
            "124/124 - 3s - loss: 5.0601e-04 - 3s/epoch - 26ms/step\n",
            "Epoch 11/20\n",
            "124/124 - 3s - loss: 4.7503e-04 - 3s/epoch - 27ms/step\n",
            "Epoch 12/20\n",
            "124/124 - 3s - loss: 4.4347e-04 - 3s/epoch - 26ms/step\n",
            "Epoch 13/20\n",
            "124/124 - 3s - loss: 4.0784e-04 - 3s/epoch - 27ms/step\n",
            "Epoch 14/20\n",
            "124/124 - 3s - loss: 3.7335e-04 - 3s/epoch - 26ms/step\n",
            "Epoch 15/20\n",
            "124/124 - 3s - loss: 3.4404e-04 - 3s/epoch - 26ms/step\n",
            "Epoch 16/20\n",
            "124/124 - 3s - loss: 3.3927e-04 - 3s/epoch - 27ms/step\n",
            "Epoch 17/20\n",
            "124/124 - 3s - loss: 3.2232e-04 - 3s/epoch - 27ms/step\n",
            "Epoch 18/20\n",
            "124/124 - 3s - loss: 2.9310e-04 - 3s/epoch - 27ms/step\n",
            "Epoch 19/20\n",
            "124/124 - 3s - loss: 2.7989e-04 - 3s/epoch - 26ms/step\n",
            "Epoch 20/20\n",
            "124/124 - 3s - loss: 2.4665e-04 - 3s/epoch - 27ms/step\n"
          ]
        }
      ]
    },
    {
      "cell_type": "code",
      "source": [
        "\n",
        "\n",
        "history_dict = history.history\n",
        "print(history_dict.keys())"
      ],
      "metadata": {
        "colab": {
          "base_uri": "https://localhost:8080/"
        },
        "id": "ygGZn9RAV0xq",
        "outputId": "99e764c7-ce8a-44ec-98d5-a1c855c4a74b"
      },
      "execution_count": 134,
      "outputs": [
        {
          "output_type": "stream",
          "name": "stdout",
          "text": [
            "dict_keys(['loss'])\n"
          ]
        }
      ]
    },
    {
      "cell_type": "code",
      "source": [
        "x_test = set_validacion1.values\n",
        "x_test=x_test.reshape(-1,1)\n",
        "x_test = sc.transform(x_test)"
      ],
      "metadata": {
        "id": "0neUEea2nIst"
      },
      "execution_count": 135,
      "outputs": []
    },
    {
      "cell_type": "code",
      "source": [
        "X_test = []\n",
        "for i in range(time_step,len(x_test)):\n",
        "    X_test.append(x_test[i-time_step:i,0])\n",
        "X_test = np.array(X_test)\n"
      ],
      "metadata": {
        "id": "qTsq7sd1nyet"
      },
      "execution_count": 136,
      "outputs": []
    },
    {
      "cell_type": "code",
      "source": [
        "prediccion = modelo.predict(x_test)\n",
        "prediccion = sc.inverse_transform(prediccion)\n",
        "prediccion2=pd.DataFrame(prediccion)\n"
      ],
      "metadata": {
        "id": "RHmgEWIZn2AQ",
        "colab": {
          "base_uri": "https://localhost:8080/"
        },
        "outputId": "f22f2976-eb77-434a-8010-012b18b62780"
      },
      "execution_count": 137,
      "outputs": [
        {
          "output_type": "stream",
          "name": "stderr",
          "text": [
            "WARNING:tensorflow:Model was constructed with shape (None, 60, 1) for input KerasTensor(type_spec=TensorSpec(shape=(None, 60, 1), dtype=tf.float32, name='gru_5_input'), name='gru_5_input', description=\"created by layer 'gru_5_input'\"), but it was called on an input with incompatible shape (32, 1, 1).\n"
          ]
        }
      ]
    },
    {
      "cell_type": "code",
      "source": [
        "prediccion2\n"
      ],
      "metadata": {
        "colab": {
          "base_uri": "https://localhost:8080/",
          "height": 424
        },
        "id": "lOLWLlYwwhqp",
        "outputId": "7b7b8a70-db90-454c-de44-915d6a4d84b6"
      },
      "execution_count": 138,
      "outputs": [
        {
          "output_type": "execute_result",
          "data": {
            "text/plain": [
              "               0\n",
              "0     515.219360\n",
              "1     484.004669\n",
              "2     443.409088\n",
              "3     397.576324\n",
              "4     346.590179\n",
              "...          ...\n",
              "2235  577.867065\n",
              "2236  541.061646\n",
              "2237  560.134277\n",
              "2238  629.817749\n",
              "2239  732.795227\n",
              "\n",
              "[2240 rows x 1 columns]"
            ],
            "text/html": [
              "\n",
              "  <div id=\"df-7f342f02-8f2b-4248-b7c4-d87064dd27b8\">\n",
              "    <div class=\"colab-df-container\">\n",
              "      <div>\n",
              "<style scoped>\n",
              "    .dataframe tbody tr th:only-of-type {\n",
              "        vertical-align: middle;\n",
              "    }\n",
              "\n",
              "    .dataframe tbody tr th {\n",
              "        vertical-align: top;\n",
              "    }\n",
              "\n",
              "    .dataframe thead th {\n",
              "        text-align: right;\n",
              "    }\n",
              "</style>\n",
              "<table border=\"1\" class=\"dataframe\">\n",
              "  <thead>\n",
              "    <tr style=\"text-align: right;\">\n",
              "      <th></th>\n",
              "      <th>0</th>\n",
              "    </tr>\n",
              "  </thead>\n",
              "  <tbody>\n",
              "    <tr>\n",
              "      <th>0</th>\n",
              "      <td>515.219360</td>\n",
              "    </tr>\n",
              "    <tr>\n",
              "      <th>1</th>\n",
              "      <td>484.004669</td>\n",
              "    </tr>\n",
              "    <tr>\n",
              "      <th>2</th>\n",
              "      <td>443.409088</td>\n",
              "    </tr>\n",
              "    <tr>\n",
              "      <th>3</th>\n",
              "      <td>397.576324</td>\n",
              "    </tr>\n",
              "    <tr>\n",
              "      <th>4</th>\n",
              "      <td>346.590179</td>\n",
              "    </tr>\n",
              "    <tr>\n",
              "      <th>...</th>\n",
              "      <td>...</td>\n",
              "    </tr>\n",
              "    <tr>\n",
              "      <th>2235</th>\n",
              "      <td>577.867065</td>\n",
              "    </tr>\n",
              "    <tr>\n",
              "      <th>2236</th>\n",
              "      <td>541.061646</td>\n",
              "    </tr>\n",
              "    <tr>\n",
              "      <th>2237</th>\n",
              "      <td>560.134277</td>\n",
              "    </tr>\n",
              "    <tr>\n",
              "      <th>2238</th>\n",
              "      <td>629.817749</td>\n",
              "    </tr>\n",
              "    <tr>\n",
              "      <th>2239</th>\n",
              "      <td>732.795227</td>\n",
              "    </tr>\n",
              "  </tbody>\n",
              "</table>\n",
              "<p>2240 rows × 1 columns</p>\n",
              "</div>\n",
              "      <button class=\"colab-df-convert\" onclick=\"convertToInteractive('df-7f342f02-8f2b-4248-b7c4-d87064dd27b8')\"\n",
              "              title=\"Convert this dataframe to an interactive table.\"\n",
              "              style=\"display:none;\">\n",
              "        \n",
              "  <svg xmlns=\"http://www.w3.org/2000/svg\" height=\"24px\"viewBox=\"0 0 24 24\"\n",
              "       width=\"24px\">\n",
              "    <path d=\"M0 0h24v24H0V0z\" fill=\"none\"/>\n",
              "    <path d=\"M18.56 5.44l.94 2.06.94-2.06 2.06-.94-2.06-.94-.94-2.06-.94 2.06-2.06.94zm-11 1L8.5 8.5l.94-2.06 2.06-.94-2.06-.94L8.5 2.5l-.94 2.06-2.06.94zm10 10l.94 2.06.94-2.06 2.06-.94-2.06-.94-.94-2.06-.94 2.06-2.06.94z\"/><path d=\"M17.41 7.96l-1.37-1.37c-.4-.4-.92-.59-1.43-.59-.52 0-1.04.2-1.43.59L10.3 9.45l-7.72 7.72c-.78.78-.78 2.05 0 2.83L4 21.41c.39.39.9.59 1.41.59.51 0 1.02-.2 1.41-.59l7.78-7.78 2.81-2.81c.8-.78.8-2.07 0-2.86zM5.41 20L4 18.59l7.72-7.72 1.47 1.35L5.41 20z\"/>\n",
              "  </svg>\n",
              "      </button>\n",
              "      \n",
              "  <style>\n",
              "    .colab-df-container {\n",
              "      display:flex;\n",
              "      flex-wrap:wrap;\n",
              "      gap: 12px;\n",
              "    }\n",
              "\n",
              "    .colab-df-convert {\n",
              "      background-color: #E8F0FE;\n",
              "      border: none;\n",
              "      border-radius: 50%;\n",
              "      cursor: pointer;\n",
              "      display: none;\n",
              "      fill: #1967D2;\n",
              "      height: 32px;\n",
              "      padding: 0 0 0 0;\n",
              "      width: 32px;\n",
              "    }\n",
              "\n",
              "    .colab-df-convert:hover {\n",
              "      background-color: #E2EBFA;\n",
              "      box-shadow: 0px 1px 2px rgba(60, 64, 67, 0.3), 0px 1px 3px 1px rgba(60, 64, 67, 0.15);\n",
              "      fill: #174EA6;\n",
              "    }\n",
              "\n",
              "    [theme=dark] .colab-df-convert {\n",
              "      background-color: #3B4455;\n",
              "      fill: #D2E3FC;\n",
              "    }\n",
              "\n",
              "    [theme=dark] .colab-df-convert:hover {\n",
              "      background-color: #434B5C;\n",
              "      box-shadow: 0px 1px 3px 1px rgba(0, 0, 0, 0.15);\n",
              "      filter: drop-shadow(0px 1px 2px rgba(0, 0, 0, 0.3));\n",
              "      fill: #FFFFFF;\n",
              "    }\n",
              "  </style>\n",
              "\n",
              "      <script>\n",
              "        const buttonEl =\n",
              "          document.querySelector('#df-7f342f02-8f2b-4248-b7c4-d87064dd27b8 button.colab-df-convert');\n",
              "        buttonEl.style.display =\n",
              "          google.colab.kernel.accessAllowed ? 'block' : 'none';\n",
              "\n",
              "        async function convertToInteractive(key) {\n",
              "          const element = document.querySelector('#df-7f342f02-8f2b-4248-b7c4-d87064dd27b8');\n",
              "          const dataTable =\n",
              "            await google.colab.kernel.invokeFunction('convertToInteractive',\n",
              "                                                     [key], {});\n",
              "          if (!dataTable) return;\n",
              "\n",
              "          const docLinkHtml = 'Like what you see? Visit the ' +\n",
              "            '<a target=\"_blank\" href=https://colab.research.google.com/notebooks/data_table.ipynb>data table notebook</a>'\n",
              "            + ' to learn more about interactive tables.';\n",
              "          element.innerHTML = '';\n",
              "          dataTable['output_type'] = 'display_data';\n",
              "          await google.colab.output.renderOutput(dataTable, element);\n",
              "          const docLink = document.createElement('div');\n",
              "          docLink.innerHTML = docLinkHtml;\n",
              "          element.appendChild(docLink);\n",
              "        }\n",
              "      </script>\n",
              "    </div>\n",
              "  </div>\n",
              "  "
            ]
          },
          "metadata": {},
          "execution_count": 138
        }
      ]
    },
    {
      "cell_type": "code",
      "source": [
        "xaxis=np.arange(start=0,stop=43500,step=5)\n",
        "\n"
      ],
      "metadata": {
        "id": "qwLuSzvXn4eV"
      },
      "execution_count": 139,
      "outputs": []
    },
    {
      "cell_type": "code",
      "source": [
        "url='https://raw.githubusercontent.com/sadoky/Pandas/master/1.232462_-77.293538_Solcast_PT5M.csv'\n",
        "df=pd.read_csv(url)\n",
        "datos_train=df[\"Ghi\"].iloc[0:4000]\n",
        "datos_val=df[\"Ghi\"].iloc[4001:6240]\n",
        "\n",
        "datos_val\n"
      ],
      "metadata": {
        "colab": {
          "base_uri": "https://localhost:8080/"
        },
        "id": "N39tCRL4pCnv",
        "outputId": "77fa5139-c5e6-4c67-cab5-2105bef1c802"
      },
      "execution_count": 140,
      "outputs": [
        {
          "output_type": "execute_result",
          "data": {
            "text/plain": [
              "4001    342\n",
              "4002    312\n",
              "4003    278\n",
              "4004    240\n",
              "4005    200\n",
              "       ... \n",
              "6235    411\n",
              "6236    384\n",
              "6237    398\n",
              "6238    449\n",
              "6239    524\n",
              "Name: Ghi, Length: 2239, dtype: int64"
            ]
          },
          "metadata": {},
          "execution_count": 140
        }
      ]
    },
    {
      "cell_type": "code",
      "source": [
        "from numpy.matrixlib.defmatrix import concatenate\n",
        "\n",
        "j=np.zeros(4000,int)\n",
        "pred44=pd.DataFrame(j)\n",
        "pred56=np.asarray(prediccion2,dtype=np.float64)\n",
        "\n",
        "pred56=pred56.reshape(-1,1)\n",
        "pred57=j.reshape(-1,1)\n",
        "pred56\n",
        "\n",
        "\n",
        "\n"
      ],
      "metadata": {
        "colab": {
          "base_uri": "https://localhost:8080/"
        },
        "id": "Surffoak0pIc",
        "outputId": "d4dc8cea-dd55-4544-eb53-7da3878043c0"
      },
      "execution_count": 141,
      "outputs": [
        {
          "output_type": "execute_result",
          "data": {
            "text/plain": [
              "array([[515.21936035],\n",
              "       [484.00466919],\n",
              "       [443.40908813],\n",
              "       ...,\n",
              "       [560.13427734],\n",
              "       [629.81774902],\n",
              "       [732.79522705]])"
            ]
          },
          "metadata": {},
          "execution_count": 141
        }
      ]
    },
    {
      "cell_type": "code",
      "source": [
        "lim=np.concatenate((pred57,pred56))\n",
        "lim\n",
        "lim2=pd.DataFrame(lim)\n",
        "prediccion_final=lim2[4000:]"
      ],
      "metadata": {
        "id": "bjUiWJ7kIwr4"
      },
      "execution_count": 142,
      "outputs": []
    },
    {
      "cell_type": "code",
      "source": [
        "fig, ax = plt.subplots(figsize=(9, 4))\n",
        "datos_train.plot(ax=ax, label='train')\n",
        "datos_val.plot(ax=ax, label='test')\n",
        "prediccion_final.plot(ax=ax,label=\"predict\")\n",
        "\n",
        "ax.legend();"
      ],
      "metadata": {
        "colab": {
          "base_uri": "https://localhost:8080/",
          "height": 265
        },
        "id": "MMCRWp2u4h6I",
        "outputId": "7e79994a-a7b9-4cce-bb60-9bb4663aa38d"
      },
      "execution_count": 143,
      "outputs": [
        {
          "output_type": "display_data",
          "data": {
            "text/plain": [
              "<Figure size 648x288 with 1 Axes>"
            ],
            "image/png": "[encoded data removed]"
          },
          "metadata": {
            "needs_background": "light"
          }
        }
      ]
    },
    {
      "cell_type": "code",
      "source": [
        "fig, ax = plt.subplots(figsize=(9, 4))\n",
        "#datos_train.plot(ax=ax, label='train')\n",
        "datos_val.plot(ax=ax, label='test')\n",
        "lim2.plot(ax=ax, label='predict')\n",
        "plt.xlim(4000,4400)\n",
        "ax.legend();\n",
        "\n",
        "\n",
        "\n"
      ],
      "metadata": {
        "colab": {
          "base_uri": "https://localhost:8080/",
          "height": 265
        },
        "id": "uUJepLsUMLN6",
        "outputId": "e3aef09d-7d24-4499-a71d-100efaead50d"
      },
      "execution_count": 144,
      "outputs": [
        {
          "output_type": "display_data",
          "data": {
            "text/plain": [
              "<Figure size 648x288 with 1 Axes>"
            ],
            "image/png": "[encoded data removed]"
          },
          "metadata": {
            "needs_background": "light"
          }
        }
      ]
    }
  ]
}