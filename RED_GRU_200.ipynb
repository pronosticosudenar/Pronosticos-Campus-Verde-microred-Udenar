{
  "nbformat": 4,
  "nbformat_minor": 0,
  "metadata": {
    "colab": {
      "provenance": [],
      "collapsed_sections": []
    },
    "kernelspec": {
      "name": "python3",
      "display_name": "Python 3"
    },
    "language_info": {
      "name": "python"
    }
  },
  "cells": [
    {
      "cell_type": "code",
      "execution_count": 1,
      "metadata": {
        "id": "_lbWF6hEN9Mo"
      },
      "outputs": [],
      "source": [
        "\n",
        "\n",
        "import numpy as np\n",
        "np.random.seed(4)\n",
        "import matplotlib.pyplot as plt\n",
        "import pandas as pd\n",
        "from sklearn.preprocessing import MinMaxScaler\n",
        "\n",
        "\n",
        "\n",
        "\n",
        "\n",
        "\n",
        "#[dataset['AirTemp'].iloc[0:8700]]"
      ]
    },
    {
      "cell_type": "code",
      "source": [
        "dataset=pd.read_csv('https://raw.githubusercontent.com/sadoky/Pandas/master/1.232462_-77.293538_Solcast_PT5M.csv')\n"
      ],
      "metadata": {
        "id": "4ZfxtYokOHyv"
      },
      "execution_count": 2,
      "outputs": []
    },
    {
      "cell_type": "code",
      "source": [
        "set_entrenamiento1= (dataset[\"Ghi\"].iloc[0:8700])\n",
        "set_validacion1 = dataset[\"Ghi\"].iloc[8700:10000]"
      ],
      "metadata": {
        "id": "XEClOEkoOjen"
      },
      "execution_count": 3,
      "outputs": []
    },
    {
      "cell_type": "code",
      "source": [
        "sc = MinMaxScaler(feature_range=(0,1))\n",
        "set_entrenamiento=set_entrenamiento1.values.reshape(-1,1)\n",
        "set_entrenamiento_escalado = sc.fit_transform(set_entrenamiento)"
      ],
      "metadata": {
        "id": "NkGNO2U6PJhA"
      },
      "execution_count": 4,
      "outputs": []
    },
    {
      "cell_type": "code",
      "source": [
        "time_step = 60\n",
        "X_train = []\n",
        "Y_train = []\n",
        "m = len(set_entrenamiento_escalado)\n",
        "\n",
        "for i in range(time_step,m):\n",
        "    # X: bloques de \"time_step\" datos: 0-time_step, 1-time_step+1, 2-time_step+2, etc\n",
        "    X_train.append(set_entrenamiento_escalado[i-time_step:i,0])\n",
        "\n",
        "    # Y: el siguiente dato\n",
        "    Y_train.append(set_entrenamiento_escalado[i,0])\n",
        "X_train, Y_train = np.array(X_train), np.array(Y_train)"
      ],
      "metadata": {
        "id": "IbqgFeb_la_R"
      },
      "execution_count": 5,
      "outputs": []
    },
    {
      "cell_type": "code",
      "source": [
        "X_train = np.reshape(X_train, (X_train.shape[0], X_train.shape[1], 1))"
      ],
      "metadata": {
        "id": "t_hzKlL2lzf9"
      },
      "execution_count": 6,
      "outputs": []
    },
    {
      "cell_type": "code",
      "source": [
        "from keras.models import Sequential\n",
        "from keras.layers import GRU, Dense"
      ],
      "metadata": {
        "id": "Khz-pGZxl2zz"
      },
      "execution_count": 7,
      "outputs": []
    },
    {
      "cell_type": "code",
      "source": [
        "dim_entrada = (X_train.shape[1],1)\n",
        "dim_salida = 1\n",
        "na = 50"
      ],
      "metadata": {
        "id": "EpM_8ZBOl6Un"
      },
      "execution_count": 8,
      "outputs": []
    },
    {
      "cell_type": "code",
      "source": [
        "modelo = Sequential()"
      ],
      "metadata": {
        "id": "Ja9nmjl1l_wd"
      },
      "execution_count": 9,
      "outputs": []
    },
    {
      "cell_type": "code",
      "source": [
        "modelo.add(GRU(units=na, input_shape=dim_entrada))"
      ],
      "metadata": {
        "id": "fr_pkMwkmAck"
      },
      "execution_count": 10,
      "outputs": []
    },
    {
      "cell_type": "code",
      "source": [
        "modelo.add(Dense(units=dim_salida))"
      ],
      "metadata": {
        "id": "_EwaQyahmTC2"
      },
      "execution_count": 11,
      "outputs": []
    },
    {
      "cell_type": "code",
      "source": [
        "from keras.callbacks import learning_rate_schedule\n",
        "modelo.compile(optimizer=\"adam\", loss='mse')"
      ],
      "metadata": {
        "id": "RR26_7J8mZP2"
      },
      "execution_count": 12,
      "outputs": []
    },
    {
      "cell_type": "code",
      "source": [
        "modelo.fit(X_train,Y_train,epochs=20,batch_size=32,verbose=1)\n"
      ],
      "metadata": {
        "colab": {
          "base_uri": "https://localhost:8080/"
        },
        "id": "9FTNNbVwmcuj",
        "outputId": "1f0aaee3-6ac8-4a27-a8d9-db6be3715124"
      },
      "execution_count": 13,
      "outputs": [
        {
          "output_type": "stream",
          "name": "stdout",
          "text": [
            "Epoch 1/20\n",
            "270/270 [==============================] - 14s 38ms/step - loss: 0.0072\n",
            "Epoch 2/20\n",
            "270/270 [==============================] - 7s 25ms/step - loss: 0.0013\n",
            "Epoch 3/20\n",
            "270/270 [==============================] - 5s 19ms/step - loss: 9.1150e-04\n",
            "Epoch 4/20\n",
            "270/270 [==============================] - 5s 20ms/step - loss: 7.3420e-04\n",
            "Epoch 5/20\n",
            "270/270 [==============================] - 5s 20ms/step - loss: 6.2566e-04\n",
            "Epoch 6/20\n",
            "270/270 [==============================] - 5s 18ms/step - loss: 5.2734e-04\n",
            "Epoch 7/20\n",
            "270/270 [==============================] - 5s 19ms/step - loss: 4.3679e-04\n",
            "Epoch 8/20\n",
            "270/270 [==============================] - 5s 19ms/step - loss: 3.6912e-04\n",
            "Epoch 9/20\n",
            "270/270 [==============================] - 5s 20ms/step - loss: 3.1980e-04\n",
            "Epoch 10/20\n",
            "270/270 [==============================] - 5s 19ms/step - loss: 2.8582e-04\n",
            "Epoch 11/20\n",
            "270/270 [==============================] - 5s 18ms/step - loss: 2.4904e-04\n",
            "Epoch 12/20\n",
            "270/270 [==============================] - 5s 19ms/step - loss: 2.3464e-04\n",
            "Epoch 13/20\n",
            "270/270 [==============================] - 5s 18ms/step - loss: 2.0830e-04\n",
            "Epoch 14/20\n",
            "270/270 [==============================] - 5s 19ms/step - loss: 1.9471e-04\n",
            "Epoch 15/20\n",
            "270/270 [==============================] - 5s 18ms/step - loss: 1.8678e-04\n",
            "Epoch 16/20\n",
            "270/270 [==============================] - 5s 20ms/step - loss: 1.8601e-04\n",
            "Epoch 17/20\n",
            "270/270 [==============================] - 5s 20ms/step - loss: 2.1010e-04\n",
            "Epoch 18/20\n",
            "270/270 [==============================] - 5s 20ms/step - loss: 2.1478e-04\n",
            "Epoch 19/20\n",
            "270/270 [==============================] - 7s 25ms/step - loss: 1.7243e-04\n",
            "Epoch 20/20\n",
            "270/270 [==============================] - 6s 21ms/step - loss: 1.6086e-04\n"
          ]
        },
        {
          "output_type": "execute_result",
          "data": {
            "text/plain": [
              "<keras.callbacks.History at 0x7f0cb612db50>"
            ]
          },
          "metadata": {},
          "execution_count": 13
        }
      ]
    },
    {
      "cell_type": "code",
      "source": [
        "x_test = set_validacion1.values\n",
        "x_test=x_test.reshape(-1,1)\n",
        "x_test = sc.transform(x_test)"
      ],
      "metadata": {
        "id": "0neUEea2nIst"
      },
      "execution_count": 14,
      "outputs": []
    },
    {
      "cell_type": "code",
      "source": [
        "X_test = []\n",
        "for i in range(time_step,len(x_test)):\n",
        "    X_test.append(x_test[i-time_step:i,0])\n",
        "X_test = np.array(X_test)\n",
        "X_test = np.reshape(X_test, (X_test.shape[0],X_test.shape[1],1))"
      ],
      "metadata": {
        "id": "qTsq7sd1nyet"
      },
      "execution_count": 15,
      "outputs": []
    },
    {
      "cell_type": "code",
      "source": [
        "prediccion = modelo.predict(X_test)\n",
        "prediccion = sc.inverse_transform(prediccion)\n",
        "prediccion2=pd.DataFrame(prediccion)\n"
      ],
      "metadata": {
        "id": "RHmgEWIZn2AQ"
      },
      "execution_count": 16,
      "outputs": []
    },
    {
      "cell_type": "code",
      "source": [
        "prediccion2\n"
      ],
      "metadata": {
        "colab": {
          "base_uri": "https://localhost:8080/",
          "height": 424
        },
        "id": "lOLWLlYwwhqp",
        "outputId": "38e093f5-e497-4b7a-9fe5-322c2a3968e5"
      },
      "execution_count": 17,
      "outputs": [
        {
          "output_type": "execute_result",
          "data": {
            "text/plain": [
              "               0\n",
              "0      -1.303860\n",
              "1      -1.303860\n",
              "2      -1.303860\n",
              "3      -1.303860\n",
              "4      -1.303860\n",
              "...          ...\n",
              "1235  877.816040\n",
              "1236  875.416138\n",
              "1237  772.954590\n",
              "1238  736.125000\n",
              "1239  798.004639\n",
              "\n",
              "[1240 rows x 1 columns]"
            ],
            "text/html": [
              "\n",
              "  <div id=\"df-4ef3c565-b9a2-4ecc-a72c-b1b783d72874\">\n",
              "    <div class=\"colab-df-container\">\n",
              "      <div>\n",
              "<style scoped>\n",
              "    .dataframe tbody tr th:only-of-type {\n",
              "        vertical-align: middle;\n",
              "    }\n",
              "\n",
              "    .dataframe tbody tr th {\n",
              "        vertical-align: top;\n",
              "    }\n",
              "\n",
              "    .dataframe thead th {\n",
              "        text-align: right;\n",
              "    }\n",
              "</style>\n",
              "<table border=\"1\" class=\"dataframe\">\n",
              "  <thead>\n",
              "    <tr style=\"text-align: right;\">\n",
              "      <th></th>\n",
              "      <th>0</th>\n",
              "    </tr>\n",
              "  </thead>\n",
              "  <tbody>\n",
              "    <tr>\n",
              "      <th>0</th>\n",
              "      <td>-1.303860</td>\n",
              "    </tr>\n",
              "    <tr>\n",
              "      <th>1</th>\n",
              "      <td>-1.303860</td>\n",
              "    </tr>\n",
              "    <tr>\n",
              "      <th>2</th>\n",
              "      <td>-1.303860</td>\n",
              "    </tr>\n",
              "    <tr>\n",
              "      <th>3</th>\n",
              "      <td>-1.303860</td>\n",
              "    </tr>\n",
              "    <tr>\n",
              "      <th>4</th>\n",
              "      <td>-1.303860</td>\n",
              "    </tr>\n",
              "    <tr>\n",
              "      <th>...</th>\n",
              "      <td>...</td>\n",
              "    </tr>\n",
              "    <tr>\n",
              "      <th>1235</th>\n",
              "      <td>877.816040</td>\n",
              "    </tr>\n",
              "    <tr>\n",
              "      <th>1236</th>\n",
              "      <td>875.416138</td>\n",
              "    </tr>\n",
              "    <tr>\n",
              "      <th>1237</th>\n",
              "      <td>772.954590</td>\n",
              "    </tr>\n",
              "    <tr>\n",
              "      <th>1238</th>\n",
              "      <td>736.125000</td>\n",
              "    </tr>\n",
              "    <tr>\n",
              "      <th>1239</th>\n",
              "      <td>798.004639</td>\n",
              "    </tr>\n",
              "  </tbody>\n",
              "</table>\n",
              "<p>1240 rows × 1 columns</p>\n",
              "</div>\n",
              "      <button class=\"colab-df-convert\" onclick=\"convertToInteractive('df-4ef3c565-b9a2-4ecc-a72c-b1b783d72874')\"\n",
              "              title=\"Convert this dataframe to an interactive table.\"\n",
              "              style=\"display:none;\">\n",
              "        \n",
              "  <svg xmlns=\"http://www.w3.org/2000/svg\" height=\"24px\"viewBox=\"0 0 24 24\"\n",
              "       width=\"24px\">\n",
              "    <path d=\"M0 0h24v24H0V0z\" fill=\"none\"/>\n",
              "    <path d=\"M18.56 5.44l.94 2.06.94-2.06 2.06-.94-2.06-.94-.94-2.06-.94 2.06-2.06.94zm-11 1L8.5 8.5l.94-2.06 2.06-.94-2.06-.94L8.5 2.5l-.94 2.06-2.06.94zm10 10l.94 2.06.94-2.06 2.06-.94-2.06-.94-.94-2.06-.94 2.06-2.06.94z\"/><path d=\"M17.41 7.96l-1.37-1.37c-.4-.4-.92-.59-1.43-.59-.52 0-1.04.2-1.43.59L10.3 9.45l-7.72 7.72c-.78.78-.78 2.05 0 2.83L4 21.41c.39.39.9.59 1.41.59.51 0 1.02-.2 1.41-.59l7.78-7.78 2.81-2.81c.8-.78.8-2.07 0-2.86zM5.41 20L4 18.59l7.72-7.72 1.47 1.35L5.41 20z\"/>\n",
              "  </svg>\n",
              "      </button>\n",
              "      \n",
              "  <style>\n",
              "    .colab-df-container {\n",
              "      display:flex;\n",
              "      flex-wrap:wrap;\n",
              "      gap: 12px;\n",
              "    }\n",
              "\n",
              "    .colab-df-convert {\n",
              "      background-color: #E8F0FE;\n",
              "      border: none;\n",
              "      border-radius: 50%;\n",
              "      cursor: pointer;\n",
              "      display: none;\n",
              "      fill: #1967D2;\n",
              "      height: 32px;\n",
              "      padding: 0 0 0 0;\n",
              "      width: 32px;\n",
              "    }\n",
              "\n",
              "    .colab-df-convert:hover {\n",
              "      background-color: #E2EBFA;\n",
              "      box-shadow: 0px 1px 2px rgba(60, 64, 67, 0.3), 0px 1px 3px 1px rgba(60, 64, 67, 0.15);\n",
              "      fill: #174EA6;\n",
              "    }\n",
              "\n",
              "    [theme=dark] .colab-df-convert {\n",
              "      background-color: #3B4455;\n",
              "      fill: #D2E3FC;\n",
              "    }\n",
              "\n",
              "    [theme=dark] .colab-df-convert:hover {\n",
              "      background-color: #434B5C;\n",
              "      box-shadow: 0px 1px 3px 1px rgba(0, 0, 0, 0.15);\n",
              "      filter: drop-shadow(0px 1px 2px rgba(0, 0, 0, 0.3));\n",
              "      fill: #FFFFFF;\n",
              "    }\n",
              "  </style>\n",
              "\n",
              "      <script>\n",
              "        const buttonEl =\n",
              "          document.querySelector('#df-4ef3c565-b9a2-4ecc-a72c-b1b783d72874 button.colab-df-convert');\n",
              "        buttonEl.style.display =\n",
              "          google.colab.kernel.accessAllowed ? 'block' : 'none';\n",
              "\n",
              "        async function convertToInteractive(key) {\n",
              "          const element = document.querySelector('#df-4ef3c565-b9a2-4ecc-a72c-b1b783d72874');\n",
              "          const dataTable =\n",
              "            await google.colab.kernel.invokeFunction('convertToInteractive',\n",
              "                                                     [key], {});\n",
              "          if (!dataTable) return;\n",
              "\n",
              "          const docLinkHtml = 'Like what you see? Visit the ' +\n",
              "            '<a target=\"_blank\" href=https://colab.research.google.com/notebooks/data_table.ipynb>data table notebook</a>'\n",
              "            + ' to learn more about interactive tables.';\n",
              "          element.innerHTML = '';\n",
              "          dataTable['output_type'] = 'display_data';\n",
              "          await google.colab.output.renderOutput(dataTable, element);\n",
              "          const docLink = document.createElement('div');\n",
              "          docLink.innerHTML = docLinkHtml;\n",
              "          element.appendChild(docLink);\n",
              "        }\n",
              "      </script>\n",
              "    </div>\n",
              "  </div>\n",
              "  "
            ]
          },
          "metadata": {},
          "execution_count": 17
        }
      ]
    },
    {
      "cell_type": "code",
      "source": [
        "xaxis=np.arange(start=0,stop=43500,step=5)\n",
        "\n"
      ],
      "metadata": {
        "id": "qwLuSzvXn4eV"
      },
      "execution_count": 18,
      "outputs": []
    },
    {
      "cell_type": "code",
      "source": [
        "url='https://raw.githubusercontent.com/sadoky/Pandas/master/1.232462_-77.293538_Solcast_PT5M.csv'\n",
        "df=pd.read_csv(url)\n",
        "datos_train=df[\"Ghi\"].iloc[0:8700]\n",
        "datos_val=df[\"Ghi\"].iloc[8700:10000]\n",
        "\n",
        "datos_val\n"
      ],
      "metadata": {
        "colab": {
          "base_uri": "https://localhost:8080/"
        },
        "id": "N39tCRL4pCnv",
        "outputId": "8083e89e-ce75-4b8a-c6ca-2291f43f6edc"
      },
      "execution_count": 19,
      "outputs": [
        {
          "output_type": "execute_result",
          "data": {
            "text/plain": [
              "8700      0\n",
              "8701      0\n",
              "8702      0\n",
              "8703      0\n",
              "8704      0\n",
              "       ... \n",
              "9995    891\n",
              "9996    852\n",
              "9997    779\n",
              "9998    772\n",
              "9999    809\n",
              "Name: Ghi, Length: 1300, dtype: int64"
            ]
          },
          "metadata": {},
          "execution_count": 19
        }
      ]
    },
    {
      "cell_type": "code",
      "source": [
        "from numpy.matrixlib.defmatrix import concatenate\n",
        "\n",
        "j=np.zeros(8755,int)\n",
        "pred44=pd.DataFrame(j)\n",
        "pred56=np.asarray(prediccion2,dtype=np.float64)\n",
        "\n",
        "pred56=pred56.reshape(-1,1)\n",
        "pred57=j.reshape(-1,1)\n",
        "pred56\n",
        "\n",
        "\n",
        "\n"
      ],
      "metadata": {
        "colab": {
          "base_uri": "https://localhost:8080/"
        },
        "id": "Surffoak0pIc",
        "outputId": "2b6ee8f0-20dc-40ab-e40e-c5ed099d7d87"
      },
      "execution_count": 20,
      "outputs": [
        {
          "output_type": "execute_result",
          "data": {
            "text/plain": [
              "array([[ -1.30385983],\n",
              "       [ -1.30385983],\n",
              "       [ -1.30385983],\n",
              "       ...,\n",
              "       [772.95458984],\n",
              "       [736.125     ],\n",
              "       [798.00463867]])"
            ]
          },
          "metadata": {},
          "execution_count": 20
        }
      ]
    },
    {
      "cell_type": "code",
      "source": [
        "lim=np.concatenate((pred57,pred56))\n",
        "lim\n",
        "lim2=pd.DataFrame(lim)\n",
        "prediccion_final=lim2[8700:]"
      ],
      "metadata": {
        "id": "bjUiWJ7kIwr4"
      },
      "execution_count": 21,
      "outputs": []
    },
    {
      "cell_type": "code",
      "source": [
        "fig, ax = plt.subplots(figsize=(9, 4))\n",
        "datos_train.plot(ax=ax, label='train')\n",
        "datos_val.plot(ax=ax, label='test')\n",
        "prediccion_final.plot(ax=ax,label=\"predict2\")\n",
        "\n",
        "ax.legend();"
      ],
      "metadata": {
        "colab": {
          "base_uri": "https://localhost:8080/",
          "height": 265
        },
        "id": "MMCRWp2u4h6I",
        "outputId": "ba1e9625-3c6b-46da-886a-4127a947019c"
      },
      "execution_count": 22,
      "outputs": [
        {
          "output_type": "display_data",
          "data": {
            "text/plain": [
              "<Figure size 648x288 with 1 Axes>"
            ],
            "image/png": "[encoded data removed]"
          },
          "metadata": {
            "needs_background": "light"
          }
        }
      ]
    },
    {
      "cell_type": "code",
      "source": [
        "fig, ax = plt.subplots(figsize=(9, 4))\n",
        "#datos_train.plot(ax=ax, label='train')\n",
        "datos_val.plot(ax=ax, label='test')\n",
        "lim2.plot(ax=ax, label='predict')\n",
        "plt.xlim(8700,10000)\n",
        "ax.legend();\n",
        "\n",
        "\n",
        "\n"
      ],
      "metadata": {
        "colab": {
          "base_uri": "https://localhost:8080/",
          "height": 266
        },
        "id": "uUJepLsUMLN6",
        "outputId": "504eb7a7-4e1e-4de3-fcdf-c7ddc9c078cb"
      },
      "execution_count": 23,
      "outputs": [
        {
          "output_type": "display_data",
          "data": {
            "text/plain": [
              "<Figure size 648x288 with 1 Axes>"
            ],
            "image/png": "[encoded data removed]"
          },
          "metadata": {
            "needs_background": "light"
          }
        }
      ]
    }
  ]
}